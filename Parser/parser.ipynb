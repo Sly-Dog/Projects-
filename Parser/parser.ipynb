{
 "cells": [
  {
   "cell_type": "markdown",
   "id": "56f3e630-625f-48f7-9c98-1b8cc259f8d4",
   "metadata": {},
   "source": [
    "# Зависимости\n",
    "**Версии**:\n",
    "- **python==3.10.8**\n",
    "- **selenium==4.6.0**\n",
    "- **beautifulsoup4==4.11.1**"
   ]
  },
  {
   "cell_type": "markdown",
   "id": "9a12d822-4d5f-4403-815c-7206a276cc5f",
   "metadata": {},
   "source": [
    "Команда для установки необходимых зависимостей. Не трогать, если не хочется менять библиотеки локального интерпретатора"
   ]
  },
  {
   "cell_type": "code",
   "execution_count": 1,
   "id": "d8696ced-692b-4886-8160-4d038fda0bfb",
   "metadata": {},
   "outputs": [],
   "source": [
    "#!pip install anyio==3.6.2 argon2-cffi==21.3.0 argon2-cffi-bindings==21.2.0 asttokens==2.1.0 async-generator==1.10 attrs==22.1.0 backcall==0.2.0 beautifulsoup4==4.11.1 bleach==5.0.1 certifi==2022.9.24 cffi==1.15.1 colorama==0.4.6 debugpy==1.6.3 decorator==5.1.1 defusedxml==0.7.1 entrypoints==0.4 exceptiongroup==1.0.4 executing==1.2.0 fastjsonschema==2.16.2 h11==0.14.0 idna==3.4 ipykernel==6.17.1 ipython==8.6.0 ipython-genutils==0.2.0 jedi==0.18.1 Jinja2==3.1.2 jsonschema==4.17.0 jupyter-server==1.23.2 jupyter_client==7.4.7 jupyter_core==5.0.0 jupyterlab-pygments==0.2.2 MarkupSafe==2.1.1 matplotlib-inline==0.1.6 mistune==2.0.4 nbclassic==0.4.8 nbclient==0.7.0 nbconvert==7.2.5 nbformat==5.7.0 nest-asyncio==1.5.6 notebook==6.5.2 notebook_shim==0.2.2 outcome==1.2.0 packaging==21.3 pandocfilters==1.5.0 parso==0.8.3 pickleshare==0.7.5 platformdirs==2.5.4 prometheus-client==0.15.0 prompt-toolkit==3.0.32 psutil==5.9.4 pure-eval==0.2.2 pycparser==2.21 Pygments==2.13.0 pyparsing==3.0.9 pyrsistent==0.19.2 PySocks==1.7.1 python-dateutil==2.8.2 pywin32==305 pywinpty==2.0.9 pyzmq==24.0.1 selenium==4.6.0 Send2Trash==1.8.0 six==1.16.0 sniffio==1.3.0 sortedcontainers==2.4.0 soupsieve==2.3.2.post1 stack-data==0.6.1 terminado==0.17.0 tinycss2==1.2.1 tornado==6.2 traitlets==5.5.0 trio==0.22.0 trio-websocket==0.9.2 urllib3==1.26.12 wcwidth==0.2.5 webencodings==0.5.1 websocket-client==1.4.2 wsproto==1.2.0"
   ]
  },
  {
   "cell_type": "markdown",
   "id": "5700c6e4-f43e-439b-a87d-f153a7799098",
   "metadata": {},
   "source": [
    "## Установка виртуальной среды и ядра \n",
    "\n",
    "Не волнуйтесь, в конце ноутбука все будет удалено, главное открывайте консоль или терминалы **в папке с ноутбуком**\n",
    "### Windows\n",
    "\n",
    "Нужно в командной строке ввести следующее и нажать Enter. Установка около минуты.\n",
    "```powershell\n",
    "python –m venv parser_env && parser_env\\Scripts\\activate && pip install anyio==3.6.2 argon2-cffi==21.3.0 argon2-cffi-bindings==21.2.0 asttokens==2.1.0 async-generator==1.10 attrs==22.1.0 backcall==0.2.0 beautifulsoup4==4.11.1 bleach==5.0.1 certifi==2022.9.24 cffi==1.15.1 colorama==0.4.6 debugpy==1.6.3 decorator==5.1.1 defusedxml==0.7.1 entrypoints==0.4 exceptiongroup==1.0.4 executing==1.2.0 fastjsonschema==2.16.2 h11==0.14.0 idna==3.4 ipykernel==6.17.1 ipython==8.6.0 ipython-genutils==0.2.0 jedi==0.18.1 Jinja2==3.1.2 jsonschema==4.17.0 jupyter-server==1.23.2 jupyter_client==7.4.7 jupyter_core==5.0.0 jupyterlab-pygments==0.2.2 MarkupSafe==2.1.1 matplotlib-inline==0.1.6 mistune==2.0.4 nbclassic==0.4.8 nbclient==0.7.0 nbconvert==7.2.5 nbformat==5.7.0 nest-asyncio==1.5.6 notebook==6.5.2 notebook_shim==0.2.2 outcome==1.2.0 packaging==21.3 pandocfilters==1.5.0 parso==0.8.3 pickleshare==0.7.5 platformdirs==2.5.4 prometheus-client==0.15.0 prompt-toolkit==3.0.32 psutil==5.9.4 pure-eval==0.2.2 pycparser==2.21 Pygments==2.13.0 pyparsing==3.0.9 pyrsistent==0.19.2 PySocks==1.7.1 python-dateutil==2.8.2 pywin32==305 pywinpty==2.0.9 pyzmq==24.0.1 selenium==4.6.0 Send2Trash==1.8.0 six==1.16.0 sniffio==1.3.0 sortedcontainers==2.4.0 soupsieve==2.3.2.post1 stack-data==0.6.1 terminado==0.17.0 tinycss2==1.2.1 tornado==6.2 traitlets==5.5.0 trio==0.22.0 trio-websocket==0.9.2 urllib3==1.26.12 wcwidth==0.2.5 webencodings==0.5.1 websocket-client==1.4.2 wsproto==1.2.0 && python -m ipykernel install --name=parser_kernel\n",
    "```\n",
    "\n",
    "### Linux\n",
    "\n",
    "Нужно в терминале ввести следующее и нажать Enter. Установка около минуты.\n",
    "```bash\n",
    "python –m venv parser_env && parser_env/Scripts/activate && pip install anyio==3.6.2 argon2-cffi==21.3.0 argon2-cffi-bindings==21.2.0 asttokens==2.1.0 async-generator==1.10 attrs==22.1.0 backcall==0.2.0 beautifulsoup4==4.11.1 bleach==5.0.1 certifi==2022.9.24 cffi==1.15.1 colorama==0.4.6 debugpy==1.6.3 decorator==5.1.1 defusedxml==0.7.1 entrypoints==0.4 exceptiongroup==1.0.4 executing==1.2.0 fastjsonschema==2.16.2 h11==0.14.0 idna==3.4 ipykernel==6.17.1 ipython==8.6.0 ipython-genutils==0.2.0 jedi==0.18.1 Jinja2==3.1.2 jsonschema==4.17.0 jupyter-server==1.23.2 jupyter_client==7.4.7 jupyter_core==5.0.0 jupyterlab-pygments==0.2.2 MarkupSafe==2.1.1 matplotlib-inline==0.1.6 mistune==2.0.4 nbclassic==0.4.8 nbclient==0.7.0 nbconvert==7.2.5 nbformat==5.7.0 nest-asyncio==1.5.6 notebook==6.5.2 notebook_shim==0.2.2 outcome==1.2.0 packaging==21.3 pandocfilters==1.5.0 parso==0.8.3 pickleshare==0.7.5 platformdirs==2.5.4 prometheus-client==0.15.0 prompt-toolkit==3.0.32 psutil==5.9.4 pure-eval==0.2.2 pycparser==2.21 Pygments==2.13.0 pyparsing==3.0.9 pyrsistent==0.19.2 PySocks==1.7.1 python-dateutil==2.8.2 pywin32==305 pywinpty==2.0.9 pyzmq==24.0.1 selenium==4.6.0 Send2Trash==1.8.0 six==1.16.0 sniffio==1.3.0 sortedcontainers==2.4.0 soupsieve==2.3.2.post1 stack-data==0.6.1 terminado==0.17.0 tinycss2==1.2.1 tornado==6.2 traitlets==5.5.0 trio==0.22.0 trio-websocket==0.9.2 urllib3==1.26.12 wcwidth==0.2.5 webencodings==0.5.1 websocket-client==1.4.2 wsproto==1.2.0 && python -m ipykernel install --name=parser_kernel\n",
    "```\n",
    "\n",
    "### Mac\n",
    "Если у вас мак, то устанавливайте виртуальную среду и ядро сами:)\n",
    "\n",
    "## Далее нужно перезагрузить jupyter server"
   ]
  },
  {
   "cell_type": "code",
   "execution_count": 3,
   "id": "1d272a23-c8c6-4b95-8333-1858c4eee407",
   "metadata": {},
   "outputs": [],
   "source": [
    "exit() # restart kernel"
   ]
  },
  {
   "cell_type": "markdown",
   "id": "a87de741-e904-42e1-8e4a-428d11887491",
   "metadata": {},
   "source": [
    "## После этого нужно сменить ядро ipynb\n",
    "Для того, чтобы оно появилось после рестарта, бывает нужно подождать секунд 30"
   ]
  },
  {
   "cell_type": "markdown",
   "id": "aaeee216-702d-4ae0-bbd4-14bf2615c1fc",
   "metadata": {},
   "source": [
    "![img](https://github.com/Sly-Dog/attachments/blob/main/parser_kernel.png?raw=true)"
   ]
  },
  {
   "cell_type": "markdown",
   "id": "f43a5ce2-3a7d-4b8f-8814-4f256efe53b4",
   "metadata": {},
   "source": [
    "# Парсер"
   ]
  },
  {
   "cell_type": "markdown",
   "id": "4b05d012-31d1-42ec-b749-3f02904028ff",
   "metadata": {},
   "source": [
    "## Импорт"
   ]
  },
  {
   "cell_type": "code",
   "execution_count": 1,
   "id": "2ea018be-2e39-4179-b92d-ed9af92ab3d1",
   "metadata": {},
   "outputs": [],
   "source": [
    "import time\n",
    "import shutil\n",
    "\n",
    "from selenium import webdriver\n",
    "from selenium.webdriver.common.by import By\n",
    "from selenium.webdriver.common.action_chains import ActionChains\n",
    "from selenium.webdriver.common.keys import Keys\n",
    "\n",
    "from bs4 import BeautifulSoup"
   ]
  },
  {
   "cell_type": "markdown",
   "id": "e8463ece-3c2a-4d9c-a09f-7b9cfb7e3829",
   "metadata": {},
   "source": [
    "## Функция\n",
    "\n",
    "---"
   ]
  },
  {
   "cell_type": "code",
   "execution_count": 2,
   "id": "2c6dba80-bc2f-4396-9e32-b0b3178510ce",
   "metadata": {},
   "outputs": [],
   "source": [
    "def get_test_data():\n",
    "\n",
    "    driver = webdriver.Chrome()\n",
    "\n",
    "    # stopping long loading - all we need renders per second or less\n",
    "    driver.set_page_load_timeout(3)\n",
    "    try: driver.get('https://tproger.ru/quiz/real-programmer/')\n",
    "    except: pass\n",
    "\n",
    "    # Accepting cookies, that blocks button\n",
    "    driver.find_element(By.XPATH, '//*[@id=\"tpButtonCookieNotify\"]').click()\n",
    "\n",
    "    # scroling page to show the test\n",
    "    for i in range(10):\n",
    "        ActionChains(driver)\\\n",
    "                .key_down(Keys.DOWN)\\\n",
    "                .perform()\n",
    "\n",
    "\n",
    "    time.sleep(0.04) # needed for button: with this it places in the right spot \n",
    "\n",
    "    # pressing button to begin the test     \n",
    "    driver.find_element(By.ID, 'start_quiz').click()\n",
    "\n",
    "\n",
    "\n",
    "    test_dict = {}\n",
    "\n",
    "    # pass the test and collect data\n",
    "    for i in range (255,267):\n",
    "\n",
    "        ### Interact with buttons ###\n",
    "        quiz_item = driver.find_element(\n",
    "            by=By.XPATH, value=f'//*[@id=\"quiz_item_{i}\"]')\n",
    "\n",
    "        quiz_item.find_element(By.CLASS_NAME, 'answer').click()\n",
    "        quiz_item.find_element(By.TAG_NAME, 'button').click()\n",
    "\n",
    "\n",
    "\n",
    "        new_quiz_item = driver.find_element(\n",
    "            by=By.XPATH, value=f'//*[@id=\"quiz_item_{i}\"]')\n",
    "\n",
    "        ### Collect data ###\n",
    "\n",
    "        # html without answers\n",
    "        soup_before = BeautifulSoup(quiz_item.get_attribute('innerHTML')) \n",
    "        # html with answers\n",
    "        soup_after =  BeautifulSoup(quiz_item.get_attribute('innerHTML')) \n",
    "\n",
    "        question       = []\n",
    "        answers        = []\n",
    "        descriptions   = []\n",
    "        percents       = []\n",
    "        correct_answer = []\n",
    "\n",
    "\n",
    "        # collect question\n",
    "        question.append(soup_before.select('div.question')[0].p.string)\n",
    "\n",
    "        for j in soup_before.select('div.answer_name'): # collect answers\n",
    "            answers.append(j.string)\n",
    "\n",
    "\n",
    "        for j in soup_before.select('div.descr'): # collect descriptions\n",
    "            descriptions.append(j.p.string)\n",
    "\n",
    "\n",
    "        for j in soup_before.select('span.percent'): # collect percents\n",
    "            percents.append(j.get_text().replace('\\n\\n                ',''))\n",
    "\n",
    "\n",
    "\n",
    "\n",
    "        # collect correct_answer\n",
    "        correct_answer.append(soup_after.select(\n",
    "            'div.answer.correct_answer')[0].find(\n",
    "            'div' ,class_ = 'answer_name').string)\n",
    "\n",
    "        # place data into dictionary\n",
    "        q_number = i-254\n",
    "        test_dict[f'quiz_item_{q_number}'] = {'question' : question,\n",
    "                            'answers' : answers,\n",
    "                            'descriptions' : descriptions,\n",
    "                            'percents' : percents,\n",
    "                            'correct_answer' : correct_answer}\n",
    "\n",
    "\n",
    "    driver.quit() # close browser\n",
    "    \n",
    "    return(test_dict)"
   ]
  },
  {
   "cell_type": "markdown",
   "id": "0c4d354e-10f0-4000-b329-9eae91ae7aa9",
   "metadata": {},
   "source": [
    "## Запуск парсера и вывод результата"
   ]
  },
  {
   "cell_type": "code",
   "execution_count": 3,
   "id": "2bb0c67d-7147-4814-af73-576e8b4924d6",
   "metadata": {},
   "outputs": [
    {
     "data": {
      "text/plain": [
       "'quiz_item_1'"
      ]
     },
     "metadata": {},
     "output_type": "display_data"
    },
    {
     "data": {
      "text/plain": [
       "{'question': ['Начнём с простого. Какую первую программу обычно пишут программисты?'],\n",
       " 'answers': ['Hello world',\n",
       "  'Сортировку «пузырьком»',\n",
       "  'Для взлома аккаунта «ВКонтакте». Такая программа есть у каждого программиста',\n",
       "  'Это вопрос с подвохом. Начинают они с починки утюгов, программы тут не при чём.'],\n",
       " 'descriptions': ['Да, конечно. Это все знают.',\n",
       "  'Обычно всё же начинают с вывода на экран «Hello world».',\n",
       "  'Нет таких программ. И не верьте тому, кто утверждает обратное.',\n",
       "  'А ещё телевозоры чинят. И всё бесплатно, ага.'],\n",
       " 'percents': ['90%', '3%', '2%', '5%'],\n",
       " 'correct_answer': ['Hello world']}"
      ]
     },
     "metadata": {},
     "output_type": "display_data"
    },
    {
     "name": "stdout",
     "output_type": "stream",
     "text": [
      "\n"
     ]
    },
    {
     "data": {
      "text/plain": [
       "'quiz_item_2'"
      ]
     },
     "metadata": {},
     "output_type": "display_data"
    },
    {
     "data": {
      "text/plain": [
       "{'question': ['Бывает ли так, что программа скомпилировалась с первого раза и без ошибок?'],\n",
       " 'answers': ['Да, конечно', 'Нет, это фантастика'],\n",
       " 'descriptions': ['Вы уверены, что хотя бы раз писали настоящий код и пытались его скомпилировать? Не бывает с первого раза.',\n",
       "  'Правильно. Не бывает такого.'],\n",
       " 'percents': ['25%', '75%'],\n",
       " 'correct_answer': ['Нет, это фантастика']}"
      ]
     },
     "metadata": {},
     "output_type": "display_data"
    },
    {
     "name": "stdout",
     "output_type": "stream",
     "text": [
      "\n"
     ]
    },
    {
     "data": {
      "text/plain": [
       "'quiz_item_3'"
      ]
     },
     "metadata": {},
     "output_type": "display_data"
    },
    {
     "data": {
      "text/plain": [
       "{'question': ['Представим гипотетическую ситуацию, в которой программа всё-таки скомпилировалась с первого раза. Как вы поступите?'],\n",
       " 'answers': ['Выключу комп и спокойно пойду спать — дело сделано',\n",
       "  'Порадуюсь за себя и продолжу писать код',\n",
       "  'Буду искать ошибку в компиляторе, где-то она должна быть'],\n",
       " 'descriptions': ['Вас предыдущий вопрос ничему не научил? Не бывает такого.',\n",
       "  'Прямо таки спокойно продолжите? На ваших глазах произошло чудо! Хотя бы в «Книгу рекордов Гиннесса» позвоните.',\n",
       "  'Правильно. Совсем без ошибок не бывает.'],\n",
       " 'percents': ['6%', '18%', '76%'],\n",
       " 'correct_answer': ['Буду искать ошибку в компиляторе, где-то она должна быть']}"
      ]
     },
     "metadata": {},
     "output_type": "display_data"
    },
    {
     "name": "stdout",
     "output_type": "stream",
     "text": [
      "\n"
     ]
    },
    {
     "data": {
      "text/plain": [
       "'quiz_item_4'"
      ]
     },
     "metadata": {},
     "output_type": "display_data"
    },
    {
     "data": {
      "text/plain": [
       "{'question': ['Движемся дальше. Вопрос на проверку логического мышления. Допустим, вы пишете проект, и заказчик утвердил документ, в котором чётко написано, что он хочет получить в результате. Назовём его ТЗ. Изменятся ли требования в процессе работы над проектом?'],\n",
       " 'answers': ['Изменятся, конечно',\n",
       "  'Не изменятся. Вы же сами сказали, что всё чётко зафиксировано'],\n",
       " 'descriptions': ['Обычно так и бывает, да. Заказчик сам не знает, чего хочет.',\n",
       "  'Вы в сказке живёте? Не бывает так.'],\n",
       " 'percents': ['89%', '11%'],\n",
       " 'correct_answer': ['Изменятся, конечно']}"
      ]
     },
     "metadata": {},
     "output_type": "display_data"
    },
    {
     "name": "stdout",
     "output_type": "stream",
     "text": [
      "\n"
     ]
    },
    {
     "data": {
      "text/plain": [
       "'quiz_item_5'"
      ]
     },
     "metadata": {},
     "output_type": "display_data"
    },
    {
     "data": {
      "text/plain": [
       "{'question': ['Какой правильный ответ на вопрос про рекурсию?'],\n",
       " 'answers': ['Да', '42', 'Какой правильный ответ на вопрос про рекурсию?'],\n",
       " 'descriptions': ['У вас ошибка типов. Перечитайте вопрос.',\n",
       "  'Нет, что вы. 42 — это ответ на главный вопрос жизни, вселенной и всего такого.',\n",
       "  'Какой правильный ответ на вопрос про рекурсию?'],\n",
       " 'percents': ['6%', '10%', '84%'],\n",
       " 'correct_answer': ['Какой правильный ответ на вопрос про рекурсию?']}"
      ]
     },
     "metadata": {},
     "output_type": "display_data"
    },
    {
     "name": "stdout",
     "output_type": "stream",
     "text": [
      "\n"
     ]
    },
    {
     "data": {
      "text/plain": [
       "'quiz_item_6'"
      ]
     },
     "metadata": {},
     "output_type": "display_data"
    },
    {
     "data": {
      "text/plain": [
       "{'question': ['Представьте, что вы пишете программу и при попытке её сборки компилятор выдал вам одну ошибку. Вы исправили её и пробуете собрать проект ещё раз. Сколько теперь будет ошибок?'],\n",
       " 'answers': ['Была одна, теперь ошибок не будет', 'Неизвестно'],\n",
       " 'descriptions': ['Очень самоуверенное предположение. Вы вполне могли накосячить, исправляя этот баг, и их станет только больше.',\n",
       "  'Правильно. Кто знает, может, вы ошиблись, исправляя этот баг?'],\n",
       " 'percents': ['6%', '94%'],\n",
       " 'correct_answer': ['Неизвестно']}"
      ]
     },
     "metadata": {},
     "output_type": "display_data"
    },
    {
     "name": "stdout",
     "output_type": "stream",
     "text": [
      "\n"
     ]
    },
    {
     "data": {
      "text/plain": [
       "'quiz_item_7'"
      ]
     },
     "metadata": {},
     "output_type": "display_data"
    },
    {
     "data": {
      "text/plain": [
       "{'question': ['Вы пришли на проект, над которым раньше работал другой программист. Что можно сказать о его коде?'],\n",
       " 'answers': ['Надо сначала детально изучить проект, чтобы понять это',\n",
       "  'Его код просто ужасен, ну кто так пишет!'],\n",
       " 'descriptions': ['Что там изучать, если этот код писали не вы сами? Впрочем, даже если это ваш код, то через год вы будете к нему относиться так же плохо.',\n",
       "  'Истинно так! Как может быть хорошим код другого программиста, в котором вам надо разобраться?'],\n",
       " 'percents': ['12%', '88%'],\n",
       " 'correct_answer': ['Его код просто ужасен, ну кто так пишет!']}"
      ]
     },
     "metadata": {},
     "output_type": "display_data"
    },
    {
     "name": "stdout",
     "output_type": "stream",
     "text": [
      "\n"
     ]
    },
    {
     "data": {
      "text/plain": [
       "'quiz_item_8'"
      ]
     },
     "metadata": {},
     "output_type": "display_data"
    },
    {
     "data": {
      "text/plain": [
       "{'question': ['Перед вами три дерева. На том, что посередине, сидит кот. На дереве с каким индексом сидит кот?'],\n",
       " 'answers': ['2', '1', '0 '],\n",
       " 'descriptions': ['Нет. Простите, но как вы считали? Скиньте в комменты, очень интересно.',\n",
       "  'Да. Деревья 0, 1, 2. Кот на среднем, правильно.',\n",
       "  'Нет. Нулевое — это самое левое. А кот сидит на дереве 1.'],\n",
       " 'percents': ['6%', '86%', '8%'],\n",
       " 'correct_answer': ['1']}"
      ]
     },
     "metadata": {},
     "output_type": "display_data"
    },
    {
     "name": "stdout",
     "output_type": "stream",
     "text": [
      "\n"
     ]
    },
    {
     "data": {
      "text/plain": [
       "'quiz_item_9'"
      ]
     },
     "metadata": {},
     "output_type": "display_data"
    },
    {
     "data": {
      "text/plain": [
       "{'question': ['Теперь чуть сложнее. Что такое Пик Балмера?'],\n",
       " 'answers': ['Гора в Северной Америке',\n",
       "  'Феномен о том, что при определённой концентрации алкоголя в крови программистские способности резко возрастают',\n",
       "  'Яхта Стива Балмера — бывшего генерального директора Microsoft'],\n",
       " 'descriptions': ['Неправильно. Это шуточный феномен, ставший популярным после комикса на xkcd. Погуглите.',\n",
       "  'Вы знали!',\n",
       "  'Термин и правда связан со Стивом, но не так.'],\n",
       " 'percents': ['9%', '66%', '24%'],\n",
       " 'correct_answer': ['Феномен о том, что при определённой концентрации алкоголя в крови программистские способности резко возрастают']}"
      ]
     },
     "metadata": {},
     "output_type": "display_data"
    },
    {
     "name": "stdout",
     "output_type": "stream",
     "text": [
      "\n"
     ]
    },
    {
     "data": {
      "text/plain": [
       "'quiz_item_10'"
      ]
     },
     "metadata": {},
     "output_type": "display_data"
    },
    {
     "data": {
      "text/plain": [
       "{'question': ['Что такое стринги?'],\n",
       " 'answers': ['Разновидность мини-трусиков',\n",
       "  '«Верёвки» на английском',\n",
       "  'Несколько переменных типа «строка»'],\n",
       " 'descriptions': ['В принципе, конечно, да. Но нет. Тест же про программистов.',\n",
       "  'Неплохой вариант. Но неправильный. Тест ведь про программистов.',\n",
       "  'Да, правильно. Вот они: string s1, string s2.'],\n",
       " 'percents': ['7%', '3%', '90%'],\n",
       " 'correct_answer': ['Несколько переменных типа «строка»']}"
      ]
     },
     "metadata": {},
     "output_type": "display_data"
    },
    {
     "name": "stdout",
     "output_type": "stream",
     "text": [
      "\n"
     ]
    },
    {
     "data": {
      "text/plain": [
       "'quiz_item_11'"
      ]
     },
     "metadata": {},
     "output_type": "display_data"
    },
    {
     "data": {
      "text/plain": [
       "{'question': ['Какое максимальное число из перечисленных можно показать пальцами одной руки?'],\n",
       " 'answers': ['5', '4', '31', '32'],\n",
       " 'descriptions': ['Это было бы слишком просто. Используйте двоичную систему счисления — загнутый палец будет ноль, разогнутый — один.',\n",
       "  'Почему 4? Нет, правда, пальцев то 5 на руке обычно.',\n",
       "  'Верно! В двоичной системе счисления 11111 будет 31 в десятичной. Это если все пальцы разогнуть.',\n",
       "  'Увы, нет. Ход мыслей у вас правильный, скорее всего, но вот 11111bin = 31dec.'],\n",
       " 'percents': ['18%', '14%', '29%', '39%'],\n",
       " 'correct_answer': ['31']}"
      ]
     },
     "metadata": {},
     "output_type": "display_data"
    },
    {
     "name": "stdout",
     "output_type": "stream",
     "text": [
      "\n"
     ]
    },
    {
     "data": {
      "text/plain": [
       "'quiz_item_12'"
      ]
     },
     "metadata": {},
     "output_type": "display_data"
    },
    {
     "data": {
      "text/plain": [
       "{'question': ['Буратино дали три яблока. Два он съел. Сколько яблок осталось у Буратино?'],\n",
       " 'answers': ['Одно', 'У него не осталось яблок', 'Никто не знает наверняка'],\n",
       " 'descriptions': ['А вот и нет! Вы же не знаете, сколько яблок у него было изначально. Мораль — обнуляйте переменные.',\n",
       "  'Даже если считать, что изначально у него не было яблок, всё равно 3-2=1. У вас всё в порядке с математикой?',\n",
       "  'Правильно. Переменную забыли обнулить. Мало ли сколько у него было яблок изначально.'],\n",
       " 'percents': ['14%', '6%', '80%'],\n",
       " 'correct_answer': ['Никто не знает наверняка']}"
      ]
     },
     "metadata": {},
     "output_type": "display_data"
    },
    {
     "name": "stdout",
     "output_type": "stream",
     "text": [
      "\n"
     ]
    }
   ],
   "source": [
    "# run parser and show result of the parsing\n",
    "test_data = get_test_data()\n",
    "\n",
    "for i,j in test_data.items():\n",
    "    display(i,j)\n",
    "    print()"
   ]
  },
  {
   "cell_type": "markdown",
   "id": "df954bff-7de7-4d09-860c-2fac98fc6383",
   "metadata": {},
   "source": [
    "## Удаление ядра и виртуальной среды\n",
    "\n",
    "Нужно сменить ядро на любое другое, например на Python 3(ipykernel). Затем выполнить код в ячеке ниже."
   ]
  },
  {
   "cell_type": "code",
   "execution_count": 1,
   "id": "b49c6e91-54c8-4611-8aca-2544670d3e03",
   "metadata": {},
   "outputs": [
    {
     "name": "stderr",
     "output_type": "stream",
     "text": [
      "[RemoveKernelSpec] Removed C:\\ProgramData\\jupyter\\kernels\\parser_kernel\n"
     ]
    }
   ],
   "source": [
    "# remove parser_kernel\n",
    "!jupyter kernelspec remove parser_kernel -y \n",
    "\n",
    "# revome venv directory\n",
    "import shutil\n",
    "shutil.rmtree('parser_env')"
   ]
  },
  {
   "cell_type": "markdown",
   "id": "3327fa9b-9800-4c7e-ad7f-9e0aff125d73",
   "metadata": {},
   "source": [
    "Чистая работа! Спасибо за внимание"
   ]
  }
 ],
 "metadata": {
  "kernelspec": {
   "display_name": "Python 3 (ipykernel)",
   "language": "python",
   "name": "python3"
  },
  "language_info": {
   "codemirror_mode": {
    "name": "ipython",
    "version": 3
   },
   "file_extension": ".py",
   "mimetype": "text/x-python",
   "name": "python",
   "nbconvert_exporter": "python",
   "pygments_lexer": "ipython3",
   "version": "3.10.8"
  }
 },
 "nbformat": 4,
 "nbformat_minor": 5
}
